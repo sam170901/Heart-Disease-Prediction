{
 "cells": [
  {
   "cell_type": "code",
   "execution_count": 1,
   "id": "277a3bc0",
   "metadata": {},
   "outputs": [],
   "source": [
    "import numpy as np\n",
    "import pandas as pd\n",
    "import matplotlib.pyplot as plt\n",
    "import seaborn as sns\n",
    "import warnings\n",
    "warnings.filterwarnings('ignore')"
   ]
  },
  {
   "cell_type": "code",
   "execution_count": 2,
   "id": "83271b2b",
   "metadata": {},
   "outputs": [],
   "source": [
    "df = pd.read_csv(r\"C:\\Users\\samar\\Downloads\\heart.csv\")"
   ]
  },
  {
   "cell_type": "code",
   "execution_count": 3,
   "id": "3ecb119e",
   "metadata": {},
   "outputs": [
    {
     "data": {
      "text/html": [
       "<div>\n",
       "<style scoped>\n",
       "    .dataframe tbody tr th:only-of-type {\n",
       "        vertical-align: middle;\n",
       "    }\n",
       "\n",
       "    .dataframe tbody tr th {\n",
       "        vertical-align: top;\n",
       "    }\n",
       "\n",
       "    .dataframe thead th {\n",
       "        text-align: right;\n",
       "    }\n",
       "</style>\n",
       "<table border=\"1\" class=\"dataframe\">\n",
       "  <thead>\n",
       "    <tr style=\"text-align: right;\">\n",
       "      <th></th>\n",
       "      <th>age</th>\n",
       "      <th>sex</th>\n",
       "      <th>cp</th>\n",
       "      <th>trestbps</th>\n",
       "      <th>chol</th>\n",
       "      <th>fbs</th>\n",
       "      <th>restecg</th>\n",
       "      <th>thalach</th>\n",
       "      <th>exang</th>\n",
       "      <th>oldpeak</th>\n",
       "      <th>slope</th>\n",
       "      <th>ca</th>\n",
       "      <th>thal</th>\n",
       "      <th>target</th>\n",
       "    </tr>\n",
       "  </thead>\n",
       "  <tbody>\n",
       "    <tr>\n",
       "      <th>0</th>\n",
       "      <td>63</td>\n",
       "      <td>1</td>\n",
       "      <td>3</td>\n",
       "      <td>145</td>\n",
       "      <td>233</td>\n",
       "      <td>1</td>\n",
       "      <td>0</td>\n",
       "      <td>150</td>\n",
       "      <td>0</td>\n",
       "      <td>2.3</td>\n",
       "      <td>0</td>\n",
       "      <td>0</td>\n",
       "      <td>1</td>\n",
       "      <td>1</td>\n",
       "    </tr>\n",
       "    <tr>\n",
       "      <th>1</th>\n",
       "      <td>37</td>\n",
       "      <td>1</td>\n",
       "      <td>2</td>\n",
       "      <td>130</td>\n",
       "      <td>250</td>\n",
       "      <td>0</td>\n",
       "      <td>1</td>\n",
       "      <td>187</td>\n",
       "      <td>0</td>\n",
       "      <td>3.5</td>\n",
       "      <td>0</td>\n",
       "      <td>0</td>\n",
       "      <td>2</td>\n",
       "      <td>1</td>\n",
       "    </tr>\n",
       "    <tr>\n",
       "      <th>2</th>\n",
       "      <td>41</td>\n",
       "      <td>0</td>\n",
       "      <td>1</td>\n",
       "      <td>130</td>\n",
       "      <td>204</td>\n",
       "      <td>0</td>\n",
       "      <td>0</td>\n",
       "      <td>172</td>\n",
       "      <td>0</td>\n",
       "      <td>1.4</td>\n",
       "      <td>2</td>\n",
       "      <td>0</td>\n",
       "      <td>2</td>\n",
       "      <td>1</td>\n",
       "    </tr>\n",
       "    <tr>\n",
       "      <th>3</th>\n",
       "      <td>56</td>\n",
       "      <td>1</td>\n",
       "      <td>1</td>\n",
       "      <td>120</td>\n",
       "      <td>236</td>\n",
       "      <td>0</td>\n",
       "      <td>1</td>\n",
       "      <td>178</td>\n",
       "      <td>0</td>\n",
       "      <td>0.8</td>\n",
       "      <td>2</td>\n",
       "      <td>0</td>\n",
       "      <td>2</td>\n",
       "      <td>1</td>\n",
       "    </tr>\n",
       "    <tr>\n",
       "      <th>4</th>\n",
       "      <td>57</td>\n",
       "      <td>0</td>\n",
       "      <td>0</td>\n",
       "      <td>120</td>\n",
       "      <td>354</td>\n",
       "      <td>0</td>\n",
       "      <td>1</td>\n",
       "      <td>163</td>\n",
       "      <td>1</td>\n",
       "      <td>0.6</td>\n",
       "      <td>2</td>\n",
       "      <td>0</td>\n",
       "      <td>2</td>\n",
       "      <td>1</td>\n",
       "    </tr>\n",
       "  </tbody>\n",
       "</table>\n",
       "</div>"
      ],
      "text/plain": [
       "   age  sex  cp  trestbps  chol  fbs  restecg  thalach  exang  oldpeak  slope  \\\n",
       "0   63    1   3       145   233    1        0      150      0      2.3      0   \n",
       "1   37    1   2       130   250    0        1      187      0      3.5      0   \n",
       "2   41    0   1       130   204    0        0      172      0      1.4      2   \n",
       "3   56    1   1       120   236    0        1      178      0      0.8      2   \n",
       "4   57    0   0       120   354    0        1      163      1      0.6      2   \n",
       "\n",
       "   ca  thal  target  \n",
       "0   0     1       1  \n",
       "1   0     2       1  \n",
       "2   0     2       1  \n",
       "3   0     2       1  \n",
       "4   0     2       1  "
      ]
     },
     "execution_count": 3,
     "metadata": {},
     "output_type": "execute_result"
    }
   ],
   "source": [
    "df.head()"
   ]
  },
  {
   "cell_type": "code",
   "execution_count": 4,
   "id": "fdd3656e",
   "metadata": {},
   "outputs": [
    {
     "data": {
      "text/html": [
       "<div>\n",
       "<style scoped>\n",
       "    .dataframe tbody tr th:only-of-type {\n",
       "        vertical-align: middle;\n",
       "    }\n",
       "\n",
       "    .dataframe tbody tr th {\n",
       "        vertical-align: top;\n",
       "    }\n",
       "\n",
       "    .dataframe thead th {\n",
       "        text-align: right;\n",
       "    }\n",
       "</style>\n",
       "<table border=\"1\" class=\"dataframe\">\n",
       "  <thead>\n",
       "    <tr style=\"text-align: right;\">\n",
       "      <th></th>\n",
       "      <th>age</th>\n",
       "      <th>sex</th>\n",
       "      <th>cp</th>\n",
       "      <th>trestbps</th>\n",
       "      <th>chol</th>\n",
       "      <th>fbs</th>\n",
       "      <th>restecg</th>\n",
       "      <th>thalach</th>\n",
       "      <th>exang</th>\n",
       "      <th>oldpeak</th>\n",
       "      <th>slope</th>\n",
       "      <th>ca</th>\n",
       "      <th>thal</th>\n",
       "      <th>target</th>\n",
       "    </tr>\n",
       "  </thead>\n",
       "  <tbody>\n",
       "    <tr>\n",
       "      <th>0</th>\n",
       "      <td>63</td>\n",
       "      <td>1</td>\n",
       "      <td>3</td>\n",
       "      <td>145</td>\n",
       "      <td>233</td>\n",
       "      <td>1</td>\n",
       "      <td>0</td>\n",
       "      <td>150</td>\n",
       "      <td>0</td>\n",
       "      <td>2.3</td>\n",
       "      <td>0</td>\n",
       "      <td>0</td>\n",
       "      <td>1</td>\n",
       "      <td>1</td>\n",
       "    </tr>\n",
       "    <tr>\n",
       "      <th>3</th>\n",
       "      <td>56</td>\n",
       "      <td>1</td>\n",
       "      <td>1</td>\n",
       "      <td>120</td>\n",
       "      <td>236</td>\n",
       "      <td>0</td>\n",
       "      <td>1</td>\n",
       "      <td>178</td>\n",
       "      <td>0</td>\n",
       "      <td>0.8</td>\n",
       "      <td>2</td>\n",
       "      <td>0</td>\n",
       "      <td>2</td>\n",
       "      <td>1</td>\n",
       "    </tr>\n",
       "    <tr>\n",
       "      <th>4</th>\n",
       "      <td>57</td>\n",
       "      <td>0</td>\n",
       "      <td>0</td>\n",
       "      <td>120</td>\n",
       "      <td>354</td>\n",
       "      <td>0</td>\n",
       "      <td>1</td>\n",
       "      <td>163</td>\n",
       "      <td>1</td>\n",
       "      <td>0.6</td>\n",
       "      <td>2</td>\n",
       "      <td>0</td>\n",
       "      <td>2</td>\n",
       "      <td>1</td>\n",
       "    </tr>\n",
       "    <tr>\n",
       "      <th>5</th>\n",
       "      <td>57</td>\n",
       "      <td>1</td>\n",
       "      <td>0</td>\n",
       "      <td>140</td>\n",
       "      <td>192</td>\n",
       "      <td>0</td>\n",
       "      <td>1</td>\n",
       "      <td>148</td>\n",
       "      <td>0</td>\n",
       "      <td>0.4</td>\n",
       "      <td>1</td>\n",
       "      <td>0</td>\n",
       "      <td>1</td>\n",
       "      <td>1</td>\n",
       "    </tr>\n",
       "    <tr>\n",
       "      <th>6</th>\n",
       "      <td>56</td>\n",
       "      <td>0</td>\n",
       "      <td>1</td>\n",
       "      <td>140</td>\n",
       "      <td>294</td>\n",
       "      <td>0</td>\n",
       "      <td>0</td>\n",
       "      <td>153</td>\n",
       "      <td>0</td>\n",
       "      <td>1.3</td>\n",
       "      <td>1</td>\n",
       "      <td>0</td>\n",
       "      <td>2</td>\n",
       "      <td>1</td>\n",
       "    </tr>\n",
       "    <tr>\n",
       "      <th>...</th>\n",
       "      <td>...</td>\n",
       "      <td>...</td>\n",
       "      <td>...</td>\n",
       "      <td>...</td>\n",
       "      <td>...</td>\n",
       "      <td>...</td>\n",
       "      <td>...</td>\n",
       "      <td>...</td>\n",
       "      <td>...</td>\n",
       "      <td>...</td>\n",
       "      <td>...</td>\n",
       "      <td>...</td>\n",
       "      <td>...</td>\n",
       "      <td>...</td>\n",
       "    </tr>\n",
       "    <tr>\n",
       "      <th>297</th>\n",
       "      <td>59</td>\n",
       "      <td>1</td>\n",
       "      <td>0</td>\n",
       "      <td>164</td>\n",
       "      <td>176</td>\n",
       "      <td>1</td>\n",
       "      <td>0</td>\n",
       "      <td>90</td>\n",
       "      <td>0</td>\n",
       "      <td>1.0</td>\n",
       "      <td>1</td>\n",
       "      <td>2</td>\n",
       "      <td>1</td>\n",
       "      <td>0</td>\n",
       "    </tr>\n",
       "    <tr>\n",
       "      <th>298</th>\n",
       "      <td>57</td>\n",
       "      <td>0</td>\n",
       "      <td>0</td>\n",
       "      <td>140</td>\n",
       "      <td>241</td>\n",
       "      <td>0</td>\n",
       "      <td>1</td>\n",
       "      <td>123</td>\n",
       "      <td>1</td>\n",
       "      <td>0.2</td>\n",
       "      <td>1</td>\n",
       "      <td>0</td>\n",
       "      <td>3</td>\n",
       "      <td>0</td>\n",
       "    </tr>\n",
       "    <tr>\n",
       "      <th>300</th>\n",
       "      <td>68</td>\n",
       "      <td>1</td>\n",
       "      <td>0</td>\n",
       "      <td>144</td>\n",
       "      <td>193</td>\n",
       "      <td>1</td>\n",
       "      <td>1</td>\n",
       "      <td>141</td>\n",
       "      <td>0</td>\n",
       "      <td>3.4</td>\n",
       "      <td>1</td>\n",
       "      <td>2</td>\n",
       "      <td>3</td>\n",
       "      <td>0</td>\n",
       "    </tr>\n",
       "    <tr>\n",
       "      <th>301</th>\n",
       "      <td>57</td>\n",
       "      <td>1</td>\n",
       "      <td>0</td>\n",
       "      <td>130</td>\n",
       "      <td>131</td>\n",
       "      <td>0</td>\n",
       "      <td>1</td>\n",
       "      <td>115</td>\n",
       "      <td>1</td>\n",
       "      <td>1.2</td>\n",
       "      <td>1</td>\n",
       "      <td>1</td>\n",
       "      <td>3</td>\n",
       "      <td>0</td>\n",
       "    </tr>\n",
       "    <tr>\n",
       "      <th>302</th>\n",
       "      <td>57</td>\n",
       "      <td>0</td>\n",
       "      <td>1</td>\n",
       "      <td>130</td>\n",
       "      <td>236</td>\n",
       "      <td>0</td>\n",
       "      <td>0</td>\n",
       "      <td>174</td>\n",
       "      <td>0</td>\n",
       "      <td>0.0</td>\n",
       "      <td>1</td>\n",
       "      <td>1</td>\n",
       "      <td>2</td>\n",
       "      <td>0</td>\n",
       "    </tr>\n",
       "  </tbody>\n",
       "</table>\n",
       "<p>208 rows × 14 columns</p>\n",
       "</div>"
      ],
      "text/plain": [
       "     age  sex  cp  trestbps  chol  fbs  restecg  thalach  exang  oldpeak  \\\n",
       "0     63    1   3       145   233    1        0      150      0      2.3   \n",
       "3     56    1   1       120   236    0        1      178      0      0.8   \n",
       "4     57    0   0       120   354    0        1      163      1      0.6   \n",
       "5     57    1   0       140   192    0        1      148      0      0.4   \n",
       "6     56    0   1       140   294    0        0      153      0      1.3   \n",
       "..   ...  ...  ..       ...   ...  ...      ...      ...    ...      ...   \n",
       "297   59    1   0       164   176    1        0       90      0      1.0   \n",
       "298   57    0   0       140   241    0        1      123      1      0.2   \n",
       "300   68    1   0       144   193    1        1      141      0      3.4   \n",
       "301   57    1   0       130   131    0        1      115      1      1.2   \n",
       "302   57    0   1       130   236    0        0      174      0      0.0   \n",
       "\n",
       "     slope  ca  thal  target  \n",
       "0        0   0     1       1  \n",
       "3        2   0     2       1  \n",
       "4        2   0     2       1  \n",
       "5        1   0     1       1  \n",
       "6        1   0     2       1  \n",
       "..     ...  ..   ...     ...  \n",
       "297      1   2     1       0  \n",
       "298      1   0     3       0  \n",
       "300      1   2     3       0  \n",
       "301      1   1     3       0  \n",
       "302      1   1     2       0  \n",
       "\n",
       "[208 rows x 14 columns]"
      ]
     },
     "execution_count": 4,
     "metadata": {},
     "output_type": "execute_result"
    }
   ],
   "source": [
    "over_50 = df[df['age'] > 50]\n",
    "over_50"
   ]
  },
  {
   "cell_type": "code",
   "execution_count": 5,
   "id": "7ab66a81",
   "metadata": {},
   "outputs": [
    {
     "data": {
      "text/plain": [
       "Text(0.5, 0.98, 'Heart Disease Analysis')"
      ]
     },
     "execution_count": 5,
     "metadata": {},
     "output_type": "execute_result"
    },
    {
     "data": {
      "image/png": "[encoded data removed]",
      "text/plain": [
       "<Figure size 1000x1000 with 2 Axes>"
      ]
     },
     "metadata": {},
     "output_type": "display_data"
    }
   ],
   "source": [
    "fig, (ax0, ax1) = plt.subplots(nrows = 2, ncols = 1, figsize = (10,10),sharex = True)\n",
    "\n",
    "scatter1 =  ax0.scatter(x = over_50['age'],\n",
    "                       y = over_50['chol'],\n",
    "                       c = over_50['target'])\n",
    "ax0.legend(*scatter1.legend_elements(),title = 'Target')\n",
    "ax0.set(title = 'Heart Disease over Cholestrol',ylabel = 'Cholestrol')\n",
    "ax0.axhline(over_50['chol'].mean(),linestyle = '--')\n",
    "\n",
    "scatter2 = ax1.scatter(x = over_50['age'],\n",
    "                      y = over_50['thalach'],\n",
    "                      c = over_50['target'])\n",
    "ax1.legend(*scatter2.legend_elements(),title = 'Target')\n",
    "ax1.set(title = 'Heart Disease and Max. heart rate',xlabel = 'Age', ylabel = 'Max. Heart Rate')\n",
    "ax1.axhline(over_50['thalach'].mean(),linestyle = '--')\n",
    "\n",
    "fig.suptitle('Heart Disease Analysis',fontsize = 30, fontweight = 'bold')\n"
   ]
  },
  {
   "cell_type": "code",
   "execution_count": 6,
   "id": "5587b343",
   "metadata": {},
   "outputs": [
    {
     "name": "stdout",
     "output_type": "stream",
     "text": [
      "<class 'pandas.core.frame.DataFrame'>\n",
      "RangeIndex: 303 entries, 0 to 302\n",
      "Data columns (total 14 columns):\n",
      " #   Column    Non-Null Count  Dtype  \n",
      "---  ------    --------------  -----  \n",
      " 0   age       303 non-null    int64  \n",
      " 1   sex       303 non-null    int64  \n",
      " 2   cp        303 non-null    int64  \n",
      " 3   trestbps  303 non-null    int64  \n",
      " 4   chol      303 non-null    int64  \n",
      " 5   fbs       303 non-null    int64  \n",
      " 6   restecg   303 non-null    int64  \n",
      " 7   thalach   303 non-null    int64  \n",
      " 8   exang     303 non-null    int64  \n",
      " 9   oldpeak   303 non-null    float64\n",
      " 10  slope     303 non-null    int64  \n",
      " 11  ca        303 non-null    int64  \n",
      " 12  thal      303 non-null    int64  \n",
      " 13  target    303 non-null    int64  \n",
      "dtypes: float64(1), int64(13)\n",
      "memory usage: 33.3 KB\n"
     ]
    },
    {
     "data": {
      "text/html": [
       "<div>\n",
       "<style scoped>\n",
       "    .dataframe tbody tr th:only-of-type {\n",
       "        vertical-align: middle;\n",
       "    }\n",
       "\n",
       "    .dataframe tbody tr th {\n",
       "        vertical-align: top;\n",
       "    }\n",
       "\n",
       "    .dataframe thead th {\n",
       "        text-align: right;\n",
       "    }\n",
       "</style>\n",
       "<table border=\"1\" class=\"dataframe\">\n",
       "  <thead>\n",
       "    <tr style=\"text-align: right;\">\n",
       "      <th></th>\n",
       "      <th>age</th>\n",
       "      <th>sex</th>\n",
       "      <th>cp</th>\n",
       "      <th>trestbps</th>\n",
       "      <th>chol</th>\n",
       "      <th>fbs</th>\n",
       "      <th>restecg</th>\n",
       "      <th>thalach</th>\n",
       "      <th>exang</th>\n",
       "      <th>oldpeak</th>\n",
       "      <th>slope</th>\n",
       "      <th>ca</th>\n",
       "      <th>thal</th>\n",
       "      <th>target</th>\n",
       "    </tr>\n",
       "  </thead>\n",
       "  <tbody>\n",
       "    <tr>\n",
       "      <th>count</th>\n",
       "      <td>303.000000</td>\n",
       "      <td>303.000000</td>\n",
       "      <td>303.000000</td>\n",
       "      <td>303.000000</td>\n",
       "      <td>303.000000</td>\n",
       "      <td>303.000000</td>\n",
       "      <td>303.000000</td>\n",
       "      <td>303.000000</td>\n",
       "      <td>303.000000</td>\n",
       "      <td>303.000000</td>\n",
       "      <td>303.000000</td>\n",
       "      <td>303.000000</td>\n",
       "      <td>303.000000</td>\n",
       "      <td>303.000000</td>\n",
       "    </tr>\n",
       "    <tr>\n",
       "      <th>mean</th>\n",
       "      <td>54.366337</td>\n",
       "      <td>0.683168</td>\n",
       "      <td>0.966997</td>\n",
       "      <td>131.623762</td>\n",
       "      <td>246.264026</td>\n",
       "      <td>0.148515</td>\n",
       "      <td>0.528053</td>\n",
       "      <td>149.646865</td>\n",
       "      <td>0.326733</td>\n",
       "      <td>1.039604</td>\n",
       "      <td>1.399340</td>\n",
       "      <td>0.729373</td>\n",
       "      <td>2.313531</td>\n",
       "      <td>0.544554</td>\n",
       "    </tr>\n",
       "    <tr>\n",
       "      <th>std</th>\n",
       "      <td>9.082101</td>\n",
       "      <td>0.466011</td>\n",
       "      <td>1.032052</td>\n",
       "      <td>17.538143</td>\n",
       "      <td>51.830751</td>\n",
       "      <td>0.356198</td>\n",
       "      <td>0.525860</td>\n",
       "      <td>22.905161</td>\n",
       "      <td>0.469794</td>\n",
       "      <td>1.161075</td>\n",
       "      <td>0.616226</td>\n",
       "      <td>1.022606</td>\n",
       "      <td>0.612277</td>\n",
       "      <td>0.498835</td>\n",
       "    </tr>\n",
       "    <tr>\n",
       "      <th>min</th>\n",
       "      <td>29.000000</td>\n",
       "      <td>0.000000</td>\n",
       "      <td>0.000000</td>\n",
       "      <td>94.000000</td>\n",
       "      <td>126.000000</td>\n",
       "      <td>0.000000</td>\n",
       "      <td>0.000000</td>\n",
       "      <td>71.000000</td>\n",
       "      <td>0.000000</td>\n",
       "      <td>0.000000</td>\n",
       "      <td>0.000000</td>\n",
       "      <td>0.000000</td>\n",
       "      <td>0.000000</td>\n",
       "      <td>0.000000</td>\n",
       "    </tr>\n",
       "    <tr>\n",
       "      <th>25%</th>\n",
       "      <td>47.500000</td>\n",
       "      <td>0.000000</td>\n",
       "      <td>0.000000</td>\n",
       "      <td>120.000000</td>\n",
       "      <td>211.000000</td>\n",
       "      <td>0.000000</td>\n",
       "      <td>0.000000</td>\n",
       "      <td>133.500000</td>\n",
       "      <td>0.000000</td>\n",
       "      <td>0.000000</td>\n",
       "      <td>1.000000</td>\n",
       "      <td>0.000000</td>\n",
       "      <td>2.000000</td>\n",
       "      <td>0.000000</td>\n",
       "    </tr>\n",
       "    <tr>\n",
       "      <th>50%</th>\n",
       "      <td>55.000000</td>\n",
       "      <td>1.000000</td>\n",
       "      <td>1.000000</td>\n",
       "      <td>130.000000</td>\n",
       "      <td>240.000000</td>\n",
       "      <td>0.000000</td>\n",
       "      <td>1.000000</td>\n",
       "      <td>153.000000</td>\n",
       "      <td>0.000000</td>\n",
       "      <td>0.800000</td>\n",
       "      <td>1.000000</td>\n",
       "      <td>0.000000</td>\n",
       "      <td>2.000000</td>\n",
       "      <td>1.000000</td>\n",
       "    </tr>\n",
       "    <tr>\n",
       "      <th>75%</th>\n",
       "      <td>61.000000</td>\n",
       "      <td>1.000000</td>\n",
       "      <td>2.000000</td>\n",
       "      <td>140.000000</td>\n",
       "      <td>274.500000</td>\n",
       "      <td>0.000000</td>\n",
       "      <td>1.000000</td>\n",
       "      <td>166.000000</td>\n",
       "      <td>1.000000</td>\n",
       "      <td>1.600000</td>\n",
       "      <td>2.000000</td>\n",
       "      <td>1.000000</td>\n",
       "      <td>3.000000</td>\n",
       "      <td>1.000000</td>\n",
       "    </tr>\n",
       "    <tr>\n",
       "      <th>max</th>\n",
       "      <td>77.000000</td>\n",
       "      <td>1.000000</td>\n",
       "      <td>3.000000</td>\n",
       "      <td>200.000000</td>\n",
       "      <td>564.000000</td>\n",
       "      <td>1.000000</td>\n",
       "      <td>2.000000</td>\n",
       "      <td>202.000000</td>\n",
       "      <td>1.000000</td>\n",
       "      <td>6.200000</td>\n",
       "      <td>2.000000</td>\n",
       "      <td>4.000000</td>\n",
       "      <td>3.000000</td>\n",
       "      <td>1.000000</td>\n",
       "    </tr>\n",
       "  </tbody>\n",
       "</table>\n",
       "</div>"
      ],
      "text/plain": [
       "              age         sex          cp    trestbps        chol         fbs  \\\n",
       "count  303.000000  303.000000  303.000000  303.000000  303.000000  303.000000   \n",
       "mean    54.366337    0.683168    0.966997  131.623762  246.264026    0.148515   \n",
       "std      9.082101    0.466011    1.032052   17.538143   51.830751    0.356198   \n",
       "min     29.000000    0.000000    0.000000   94.000000  126.000000    0.000000   \n",
       "25%     47.500000    0.000000    0.000000  120.000000  211.000000    0.000000   \n",
       "50%     55.000000    1.000000    1.000000  130.000000  240.000000    0.000000   \n",
       "75%     61.000000    1.000000    2.000000  140.000000  274.500000    0.000000   \n",
       "max     77.000000    1.000000    3.000000  200.000000  564.000000    1.000000   \n",
       "\n",
       "          restecg     thalach       exang     oldpeak       slope          ca  \\\n",
       "count  303.000000  303.000000  303.000000  303.000000  303.000000  303.000000   \n",
       "mean     0.528053  149.646865    0.326733    1.039604    1.399340    0.729373   \n",
       "std      0.525860   22.905161    0.469794    1.161075    0.616226    1.022606   \n",
       "min      0.000000   71.000000    0.000000    0.000000    0.000000    0.000000   \n",
       "25%      0.000000  133.500000    0.000000    0.000000    1.000000    0.000000   \n",
       "50%      1.000000  153.000000    0.000000    0.800000    1.000000    0.000000   \n",
       "75%      1.000000  166.000000    1.000000    1.600000    2.000000    1.000000   \n",
       "max      2.000000  202.000000    1.000000    6.200000    2.000000    4.000000   \n",
       "\n",
       "             thal      target  \n",
       "count  303.000000  303.000000  \n",
       "mean     2.313531    0.544554  \n",
       "std      0.612277    0.498835  \n",
       "min      0.000000    0.000000  \n",
       "25%      2.000000    0.000000  \n",
       "50%      2.000000    1.000000  \n",
       "75%      3.000000    1.000000  \n",
       "max      3.000000    1.000000  "
      ]
     },
     "execution_count": 6,
     "metadata": {},
     "output_type": "execute_result"
    }
   ],
   "source": [
    "df.shape\n",
    "df.info()\n",
    "df.describe()"
   ]
  },
  {
   "cell_type": "code",
   "execution_count": 7,
   "id": "ce4435ac",
   "metadata": {},
   "outputs": [],
   "source": [
    "lst=['sex', 'cp', 'fbs', 'restecg', 'exang', 'slope', 'ca', 'thal']\n",
    "df[lst] = df[lst].astype(object)"
   ]
  },
  {
   "cell_type": "code",
   "execution_count": 8,
   "id": "b1fdc580",
   "metadata": {},
   "outputs": [
    {
     "name": "stdout",
     "output_type": "stream",
     "text": [
      "<class 'pandas.core.frame.DataFrame'>\n",
      "RangeIndex: 303 entries, 0 to 302\n",
      "Data columns (total 14 columns):\n",
      " #   Column    Non-Null Count  Dtype  \n",
      "---  ------    --------------  -----  \n",
      " 0   age       303 non-null    int64  \n",
      " 1   sex       303 non-null    object \n",
      " 2   cp        303 non-null    object \n",
      " 3   trestbps  303 non-null    int64  \n",
      " 4   chol      303 non-null    int64  \n",
      " 5   fbs       303 non-null    object \n",
      " 6   restecg   303 non-null    object \n",
      " 7   thalach   303 non-null    int64  \n",
      " 8   exang     303 non-null    object \n",
      " 9   oldpeak   303 non-null    float64\n",
      " 10  slope     303 non-null    object \n",
      " 11  ca        303 non-null    object \n",
      " 12  thal      303 non-null    object \n",
      " 13  target    303 non-null    int64  \n",
      "dtypes: float64(1), int64(5), object(8)\n",
      "memory usage: 33.3+ KB\n"
     ]
    }
   ],
   "source": [
    "df.info()"
   ]
  },
  {
   "cell_type": "code",
   "execution_count": 9,
   "id": "48fdf74c",
   "metadata": {},
   "outputs": [
    {
     "data": {
      "text/plain": [
       "([<matplotlib.patches.Wedge at 0x29ba84e8250>,\n",
       "  <matplotlib.patches.Wedge at 0x29ba84e8160>],\n",
       " [Text(-0.16741846841770244, 1.1882638833326002, 'Heart-Disease Patients'),\n",
       "  Text(0.1534670313650796, -1.0892418786862677, 'Healthy Paitents')],\n",
       " [Text(-0.09766077324365974, 0.6931539319440166, '54.5%'),\n",
       "  Text(0.08370928983549797, -0.5941319338288732, '45.5%')])"
      ]
     },
     "execution_count": 9,
     "metadata": {},
     "output_type": "execute_result"
    },
    {
     "data": {
      "image/png": "[encoded data removed]",
      "text/plain": [
       "<Figure size 640x480 with 1 Axes>"
      ]
     },
     "metadata": {},
     "output_type": "display_data"
    }
   ],
   "source": [
    "mylabels = [\"Heart-Disease Patients\",\"Healthy Paitents\"]\n",
    "explode=[0.1,0]\n",
    "plt.pie(df['target'].value_counts(),labels = mylabels,explode=explode, autopct='%.1f%%')\n"
   ]
  },
  {
   "cell_type": "code",
   "execution_count": 10,
   "id": "e69e4aca",
   "metadata": {},
   "outputs": [
    {
     "data": {
      "text/plain": [
       "<Axes: ylabel='sex'>"
      ]
     },
     "execution_count": 10,
     "metadata": {},
     "output_type": "execute_result"
    },
    {
     "data": {
      "image/png": "[encoded data removed]",
      "text/plain": [
       "<Figure size 640x480 with 1 Axes>"
      ]
     },
     "metadata": {},
     "output_type": "display_data"
    }
   ],
   "source": [
    "mylabels = ['Male Patients','Female Patients']\n",
    "explode=[0.1,0]\n",
    "df.sex[df.target==1].value_counts().plot(kind='pie',labels=mylabels,explode=explode,autopct=\"%.1f%%\")"
   ]
  },
  {
   "cell_type": "code",
   "execution_count": 11,
   "id": "7c26abad",
   "metadata": {},
   "outputs": [
    {
     "data": {
      "text/plain": [
       "<Axes: ylabel='cp'>"
      ]
     },
     "execution_count": 11,
     "metadata": {},
     "output_type": "execute_result"
    },
    {
     "data": {
      "image/png": "[encoded data removed]",
      "text/plain": [
       "<Figure size 640x480 with 1 Axes>"
      ]
     },
     "metadata": {},
     "output_type": "display_data"
    }
   ],
   "source": [
    "mylabels = [ \"Asymptotic\", \"Non-angina Pain\",\"Atypical Type Angina\",\"Typical Type Angina\"]\n",
    "explode=[0.1,0.1,0.1,0.1]\n",
    "df.cp[df.target==1].value_counts().plot(kind='pie',labels=mylabels,explode=explode,autopct=\"%.1f%%\")"
   ]
  },
  {
   "cell_type": "code",
   "execution_count": 12,
   "id": "fed1231a",
   "metadata": {},
   "outputs": [
    {
     "data": {
      "text/plain": [
       "<Axes: ylabel='fbs'>"
      ]
     },
     "execution_count": 12,
     "metadata": {},
     "output_type": "execute_result"
    },
    {
     "data": {
      "image/png": "[encoded data removed]",
      "text/plain": [
       "<Figure size 640x480 with 1 Axes>"
      ]
     },
     "metadata": {},
     "output_type": "display_data"
    }
   ],
   "source": [
    "mylabels=[\"<120mg/dl\",\">120mg/dl\"]\n",
    "explode=[0.1,0]\n",
    "df.fbs[df.target==1].value_counts().plot(kind='pie',labels=mylabels,explode=explode,autopct=\"%.1f%%\")"
   ]
  },
  {
   "cell_type": "code",
   "execution_count": 13,
   "id": "4064f212",
   "metadata": {},
   "outputs": [
    {
     "data": {
      "text/plain": [
       "<Axes: ylabel='restecg'>"
      ]
     },
     "execution_count": 13,
     "metadata": {},
     "output_type": "execute_result"
    },
    {
     "data": {
      "image/png": "[encoded data removed]",
      "text/plain": [
       "<Figure size 640x480 with 1 Axes>"
      ]
     },
     "metadata": {},
     "output_type": "display_data"
    }
   ],
   "source": [
    "mylabels=[\"LV Hypertropy\",\"normal\",\"ST-T Wave\"]\n",
    "explode=[0.1,0.1,0]\n",
    "df.restecg[df.target==1].value_counts().plot(kind='pie',labels=mylabels,explode=explode,autopct=\"%.1f%%\")"
   ]
  },
  {
   "cell_type": "code",
   "execution_count": 14,
   "id": "291f97d1",
   "metadata": {},
   "outputs": [
    {
     "data": {
      "text/plain": [
       "<Axes: >"
      ]
     },
     "execution_count": 14,
     "metadata": {},
     "output_type": "execute_result"
    },
    {
     "data": {
      "image/png": "[encoded data removed]",
      "text/plain": [
       "<Figure size 1400x800 with 2 Axes>"
      ]
     },
     "metadata": {},
     "output_type": "display_data"
    }
   ],
   "source": [
    "corr = df.corr()\n",
    "plt.subplots(figsize=(14,8))\n",
    "sns.heatmap(corr,annot=True, cmap=sns.diverging_palette(220, 20, as_cmap=True))"
   ]
  },
  {
   "cell_type": "markdown",
   "id": "dd053033",
   "metadata": {},
   "source": [
    "We can see there is a positive correlation between chest pain (cp) & target (our predictor). This makes sense since, the greater amount of chest pain results in a greater chance of having heart disease."
   ]
  },
  {
   "cell_type": "code",
   "execution_count": 15,
   "id": "fc8f157f",
   "metadata": {},
   "outputs": [],
   "source": [
    "from sklearn.model_selection import train_test_split\n",
    "x = df.drop(['target'], axis=1)\n",
    "y = df['target']"
   ]
  },
  {
   "cell_type": "code",
   "execution_count": 16,
   "id": "8f7c9177",
   "metadata": {},
   "outputs": [],
   "source": [
    "x_train, x_test, y_train, y_test = train_test_split(x, y, test_size=0.2, random_state=4)"
   ]
  },
  {
   "cell_type": "markdown",
   "id": "bb93a670",
   "metadata": {},
   "source": [
    "Model Implementation"
   ]
  },
  {
   "cell_type": "markdown",
   "id": "53c28ed0",
   "metadata": {},
   "source": [
    "# Random Forest"
   ]
  },
  {
   "cell_type": "code",
   "execution_count": 17,
   "id": "11c3d1c4",
   "metadata": {},
   "outputs": [],
   "source": [
    "from sklearn.model_selection import RandomizedSearchCV\n",
    "from sklearn.model_selection import GridSearchCV\n",
    "\n",
    "from sklearn.svm import SVC\n",
    "from sklearn.naive_bayes import BernoulliNB\n",
    "from sklearn.tree import DecisionTreeClassifier\n",
    "from sklearn.ensemble import RandomForestClassifier\n",
    "from sklearn.linear_model import LogisticRegression\n",
    "from sklearn.neighbors import KNeighborsClassifier\n",
    "from sklearn.preprocessing import PolynomialFeatures\n",
    "\n",
    "\n",
    "from sklearn.metrics import accuracy_score, confusion_matrix, classification_report, f1_score, roc_auc_score, roc_curve, precision_score, recall_score\n"
   ]
  },
  {
   "cell_type": "code",
   "execution_count": 18,
   "id": "3306e3e5",
   "metadata": {},
   "outputs": [
    {
     "name": "stdout",
     "output_type": "stream",
     "text": [
      "Accuracy:  0.8688524590163934\n",
      "              precision    recall  f1-score   support\n",
      "\n",
      "           0       0.81      0.88      0.85        25\n",
      "           1       0.91      0.86      0.89        36\n",
      "\n",
      "    accuracy                           0.87        61\n",
      "   macro avg       0.86      0.87      0.87        61\n",
      "weighted avg       0.87      0.87      0.87        61\n",
      "\n"
     ]
    }
   ],
   "source": [
    "rf = RandomForestClassifier(random_state=4)\n",
    "rf.fit(x_train,y_train)\n",
    "y_pred_rf = rf.predict(x_test)\n",
    "print(\"Accuracy: \",accuracy_score(y_test,y_pred_rf))\n",
    "print(classification_report(y_test, y_pred_rf))"
   ]
  },
  {
   "cell_type": "code",
   "execution_count": 19,
   "id": "186d8488",
   "metadata": {},
   "outputs": [
    {
     "data": {
      "text/plain": [
       "0.821505376344086"
      ]
     },
     "execution_count": 19,
     "metadata": {},
     "output_type": "execute_result"
    }
   ],
   "source": [
    "from sklearn.model_selection import cross_val_score\n",
    "np.mean(cross_val_score(RandomForestClassifier(max_samples=0.75),x,y,cv=10,scoring='accuracy'))\n"
   ]
  },
  {
   "cell_type": "markdown",
   "id": "a36f480e",
   "metadata": {},
   "source": [
    "# GridSearchCV"
   ]
  },
  {
   "cell_type": "code",
   "execution_count": 20,
   "id": "bcc4b0ff",
   "metadata": {},
   "outputs": [],
   "source": [
    "n_estimators = [20,50,80,100,120,240,480]\n",
    "max_features = [0.2,0.4,0.6,0.8,1.0]\n",
    "max_depth = [4,8,16,32,64]\n",
    "max_samples = [0.5,0.75,1.0]"
   ]
  },
  {
   "cell_type": "code",
   "execution_count": 21,
   "id": "834f7bb4",
   "metadata": {},
   "outputs": [],
   "source": [
    "param_grid = {\n",
    "            'n_estimators': n_estimators,\n",
    "               'max_features': max_features,\n",
    "               'max_depth': max_depth,\n",
    "              'max_samples':max_samples,\n",
    "            \n",
    "}"
   ]
  },
  {
   "cell_type": "code",
   "execution_count": null,
   "id": "587d1f9a",
   "metadata": {},
   "outputs": [],
   "source": [
    "gs_rf = GridSearchCV(estimator = rf, \n",
    "                       param_grid = param_grid, \n",
    "                       cv = 5, \n",
    "                       n_jobs = -1,\n",
    "                )\n",
    "gs_rf.fit(x_train,y_train)\n",
    "gs_predictions_rf = gs_rf.predict(x_test)"
   ]
  },
  {
   "cell_type": "code",
   "execution_count": null,
   "id": "e1ba9844",
   "metadata": {},
   "outputs": [],
   "source": []
  },
  {
   "cell_type": "code",
   "execution_count": null,
   "id": "02fe56c1",
   "metadata": {},
   "outputs": [],
   "source": [
    "gs_rf.best_score_"
   ]
  },
  {
   "cell_type": "code",
   "execution_count": null,
   "id": "5ca53c5b",
   "metadata": {},
   "outputs": [],
   "source": [
    "print(\"Best parameters: \",gs_rf.best_params_)\n",
    "print(\"Accuracy: \",accuracy_score(y_test,gs_predictions_rf))\n",
    "print(classification_report(y_test,gs_predictions_rf ))\n",
    "cm = confusion_matrix(y_test,gs_predictions_rf)\n",
    "fig, ax= plt.subplots(figsize=(3,3))\n",
    "sns.heatmap(cm, annot=True, fmt='g', ax=ax);  #annot=True to annotate cells, ftm='g' to disable scientific notation\n",
    "ax.set_xlabel('Predicted labels');ax.set_ylabel('True labels'); \n",
    "ax.set_title('Confusion Matrix'); \n",
    "Specificity_rf = cm[0,0]/(cm[0,0]+cm[0,1])\n",
    "Sensitivity_rf = cm[1,1]/(cm[1,0]+cm[1,1])\n",
    "FPR_rf = 1-Specificity_rf\n",
    "print(\"Sensitivity: \",Sensitivity_rf)\n",
    "print(\"Specificity: \",Specificity_rf)"
   ]
  },
  {
   "cell_type": "markdown",
   "id": "f299d9d0",
   "metadata": {},
   "source": [
    "# RandomSearchCV"
   ]
  },
  {
   "cell_type": "code",
   "execution_count": null,
   "id": "8354576e",
   "metadata": {},
   "outputs": [],
   "source": [
    "bootstrap = [True, False]\n",
    "param_random = {'n_estimators': n_estimators,\n",
    "               'max_features': max_features,\n",
    "               'max_depth': max_depth,\n",
    "              'max_samples':max_samples,\n",
    "              'bootstrap':bootstrap,\n",
    "             }"
   ]
  },
  {
   "cell_type": "code",
   "execution_count": null,
   "id": "64be935e",
   "metadata": {},
   "outputs": [],
   "source": [
    "rs_rf = RandomizedSearchCV(estimator = rf, \n",
    "                       param_distributions = param_random, \n",
    "                       cv = 5, \n",
    "                       verbose=2, \n",
    "                       n_jobs = -1)"
   ]
  },
  {
   "cell_type": "code",
   "execution_count": null,
   "id": "e9ecadd6",
   "metadata": {},
   "outputs": [],
   "source": [
    "\n",
    "rs_rf.fit(x_train,y_train)"
   ]
  },
  {
   "cell_type": "code",
   "execution_count": null,
   "id": "f2106ce7",
   "metadata": {},
   "outputs": [],
   "source": [
    "\n",
    "rs_rf.best_params_"
   ]
  },
  {
   "cell_type": "code",
   "execution_count": null,
   "id": "872e3982",
   "metadata": {},
   "outputs": [],
   "source": [
    "rs_rf.best_score_"
   ]
  },
  {
   "cell_type": "code",
   "execution_count": null,
   "id": "82b714cb",
   "metadata": {},
   "outputs": [],
   "source": [
    "rs_predictions_rf = rs_rf.predict(x_test)\n",
    "print(accuracy_score(y_test,rs_predictions_rf))\n",
    "print(classification_report(y_test,rs_predictions_rf ))"
   ]
  },
  {
   "cell_type": "markdown",
   "id": "6492cf50",
   "metadata": {},
   "source": [
    "# SVM"
   ]
  },
  {
   "cell_type": "code",
   "execution_count": null,
   "id": "49d0562a",
   "metadata": {},
   "outputs": [],
   "source": [
    "SVMclassifier = SVC(random_state=4)\n",
    "SVMclassifier.fit(x_train, y_train)\n",
    "\n",
    "y_pred_SVM = SVMclassifier.predict(x_test)"
   ]
  },
  {
   "cell_type": "code",
   "execution_count": null,
   "id": "4866b6e9",
   "metadata": {},
   "outputs": [],
   "source": [
    "print(accuracy_score(y_test,y_pred_SVM))\n",
    "print(classification_report(y_test, y_pred_SVM))"
   ]
  },
  {
   "cell_type": "markdown",
   "id": "17cc80ef",
   "metadata": {},
   "source": [
    "# GridSearchCV"
   ]
  },
  {
   "cell_type": "code",
   "execution_count": null,
   "id": "bed5d8be",
   "metadata": {},
   "outputs": [],
   "source": [
    "param_grid_SVM = {'C': [0.1, 1, 10, 100, 1000], \n",
    "              'gamma': [1, 0.1, 0.01, 0.001, 0.0001],\n",
    "              'kernel': ['rbf']} \n",
    "  \n",
    "gs_svm = GridSearchCV(SVC(random_state=4), param_grid_SVM, verbose = 3)\n",
    "  \n",
    "# fitting the model for grid search\n",
    "gs_svm.fit(x_train, y_train)"
   ]
  },
  {
   "cell_type": "code",
   "execution_count": null,
   "id": "2819ef49",
   "metadata": {},
   "outputs": [],
   "source": []
  },
  {
   "cell_type": "code",
   "execution_count": null,
   "id": "e9a50093",
   "metadata": {},
   "outputs": [],
   "source": [
    "gs_svm.best_score_"
   ]
  },
  {
   "cell_type": "code",
   "execution_count": null,
   "id": "818b2be7",
   "metadata": {},
   "outputs": [],
   "source": [
    "print(\"Best parameters: \",gs_svm.best_params_)\n",
    "gs_predictions_SVM = gs_svm.predict(x_test)\n",
    "print(\"Accuracy: \",accuracy_score(y_test,gs_predictions_SVM))\n",
    "print(classification_report(y_test,gs_predictions_SVM ))\n",
    "cm = confusion_matrix(y_test,gs_predictions_SVM)\n",
    "\n",
    "fig, ax= plt.subplots(figsize=(3,3))\n",
    "sns.heatmap(cm, annot=True, fmt='g', ax=ax);  #annot=True to annotate cells, ftm='g' to disable scientific notation\n",
    "ax.set_xlabel('Predicted labels');ax.set_ylabel('True labels'); \n",
    "ax.set_title('Confusion Matrix'); \n",
    "Specificity_svm = cm[0,0]/(cm[0,0]+cm[0,1])\n",
    "Sensitivity_svm = cm[1,1]/(cm[1,0]+cm[1,1])\n",
    "FPR_svm = 1-Specificity_svm\n",
    "print(\"Sensitivity: \",Sensitivity_svm)\n",
    "print(\"Specificity: \",Specificity_svm)"
   ]
  },
  {
   "cell_type": "markdown",
   "id": "4f0c9a09",
   "metadata": {},
   "source": [
    "# RandomSearchCV"
   ]
  },
  {
   "cell_type": "code",
   "execution_count": null,
   "id": "db2e6654",
   "metadata": {},
   "outputs": [],
   "source": [
    "param_grid = {'C': [0.1, 1, 10, 100, 1000], \n",
    "              'gamma': [1, 0.1, 0.01, 0.001, 0.0001],\n",
    "              'kernel': ['rbf']} \n",
    "  \n",
    "rs_svm = RandomizedSearchCV(SVC(random_state=4), param_grid, verbose = 3)\n",
    "  \n",
    "# fitting the model for grid search\n",
    "rs_svm.fit(x_train, y_train)"
   ]
  },
  {
   "cell_type": "code",
   "execution_count": null,
   "id": "558a4190",
   "metadata": {},
   "outputs": [],
   "source": [
    "print(rs_svm.best_params_)"
   ]
  },
  {
   "cell_type": "code",
   "execution_count": null,
   "id": "e2808252",
   "metadata": {},
   "outputs": [],
   "source": [
    "rs_svm.best_score_"
   ]
  },
  {
   "cell_type": "code",
   "execution_count": null,
   "id": "99b26c5f",
   "metadata": {},
   "outputs": [],
   "source": [
    "rs_predictions_svm = rs_svm.predict(x_test)\n",
    "print(accuracy_score(y_test,rs_predictions_svm))\n",
    "print(classification_report(y_test,rs_predictions_svm ))"
   ]
  },
  {
   "cell_type": "markdown",
   "id": "0b5c29ef",
   "metadata": {},
   "source": [
    "# KNN Algorithm"
   ]
  },
  {
   "cell_type": "code",
   "execution_count": null,
   "id": "da855220",
   "metadata": {},
   "outputs": [],
   "source": [
    "KNNClassifier = KNeighborsClassifier()\n",
    "KNNClassifier.fit(x_train, y_train)\n",
    "\n",
    "y_pred_KNN = KNNClassifier.predict(x_test)\n",
    "print(accuracy_score(y_test,y_pred_KNN))\n",
    "print(classification_report(y_test, y_pred_KNN))"
   ]
  },
  {
   "cell_type": "markdown",
   "id": "9c2af695",
   "metadata": {},
   "source": [
    "# GridSearchCV"
   ]
  },
  {
   "cell_type": "code",
   "execution_count": null,
   "id": "39bcef23",
   "metadata": {},
   "outputs": [],
   "source": [
    "knn = KNeighborsClassifier()\n",
    "k_range = list(range(1,30))\n",
    "grid_params_knn = { 'n_neighbors' : k_range,\n",
    "               'weights' : ['uniform','distance'],\n",
    "               'metric' : ['minkowski','euclidean','manhattan']}\n",
    "  \n",
    "# defining parameter range\n",
    "gs_knn = GridSearchCV(knn, grid_params_knn, scoring='accuracy' ,verbose=1)\n",
    "  \n",
    "# fitting the model for grid search\n",
    "gs_knn.fit(x_train, y_train)"
   ]
  },
  {
   "cell_type": "code",
   "execution_count": null,
   "id": "60dc17fc",
   "metadata": {},
   "outputs": [],
   "source": []
  },
  {
   "cell_type": "code",
   "execution_count": null,
   "id": "33332eca",
   "metadata": {},
   "outputs": [],
   "source": [
    "print(gs_knn.best_score_)"
   ]
  },
  {
   "cell_type": "code",
   "execution_count": null,
   "id": "82558f32",
   "metadata": {},
   "outputs": [],
   "source": [
    "print(\"Best Parameters: \",gs_knn.best_params_)\n",
    "gs_predictions_knn = gs_knn.predict(x_test)\n",
    "print(\"Accuracy: \",accuracy_score(y_test,gs_predictions_knn))\n",
    "print(classification_report(y_test,gs_predictions_knn ))\n",
    "cm = confusion_matrix(y_test,gs_predictions_knn)\n",
    "fig, ax= plt.subplots(figsize=(3,3))\n",
    "sns.heatmap(cm, annot=True, fmt='g', ax=ax);  #annot=True to annotate cells, ftm='g' to disable scientific notation\n",
    "\n",
    "# labels, title and ticks\n",
    "ax.set_xlabel('Predicted labels');ax.set_ylabel('True labels'); \n",
    "ax.set_title('Confusion Matrix'); \n",
    "Specificity_knn = cm[0,0]/(cm[0,0]+cm[0,1])\n",
    "Sensitivity_knn = cm[1,1]/(cm[1,0]+cm[1,1])\n",
    "FPR_knn = 1-Specificity_knn\n",
    "print(\"Sensitivity: \",Sensitivity_knn)\n",
    "print(\"Specificity: \",Specificity_knn)"
   ]
  },
  {
   "cell_type": "markdown",
   "id": "f3a887be",
   "metadata": {},
   "source": [
    "# RandomSearchCV"
   ]
  },
  {
   "cell_type": "code",
   "execution_count": null,
   "id": "1094134f",
   "metadata": {},
   "outputs": [],
   "source": [
    "knn = KNeighborsClassifier()\n",
    "\n",
    "random_params_knn = { 'n_neighbors' : k_range,\n",
    "               'weights' : ['uniform','distance'],\n",
    "               'metric' : ['minkowski','euclidean','manhattan']}\n",
    "  \n",
    "# defining parameter range\n",
    "rs_knn = RandomizedSearchCV(knn, random_params_knn, scoring='accuracy' ,verbose=1)\n",
    "  \n",
    "# fitting the model for grid search\n",
    "rs_knn.fit(x_train, y_train)"
   ]
  },
  {
   "cell_type": "code",
   "execution_count": null,
   "id": "5bb588b4",
   "metadata": {},
   "outputs": [],
   "source": [
    "print(rs_knn.best_params_)"
   ]
  },
  {
   "cell_type": "code",
   "execution_count": null,
   "id": "bcd51882",
   "metadata": {},
   "outputs": [],
   "source": [
    "print(rs_knn.best_score_)"
   ]
  },
  {
   "cell_type": "code",
   "execution_count": null,
   "id": "8b83680e",
   "metadata": {},
   "outputs": [],
   "source": [
    "rs_predictions_knn = rs_knn.predict(x_test)\n",
    "print(accuracy_score(y_test,rs_predictions_knn))\n",
    "print(classification_report(y_test,rs_predictions_knn ))\n"
   ]
  },
  {
   "cell_type": "markdown",
   "id": "dee84ccb",
   "metadata": {},
   "source": [
    "# Logistic Regression"
   ]
  },
  {
   "cell_type": "code",
   "execution_count": null,
   "id": "6b308a34",
   "metadata": {},
   "outputs": [],
   "source": [
    "classifier = LogisticRegression(random_state = 0)\n",
    "classifier.fit(x_train, y_train)\n",
    "\n",
    "y_pred_LR = classifier.predict(x_test)\n",
    "print(accuracy_score(y_test,y_pred_LR))\n",
    "print(classification_report(y_test, y_pred_LR))\n"
   ]
  },
  {
   "cell_type": "markdown",
   "id": "a3a50c06",
   "metadata": {},
   "source": [
    "# GridSearchCV"
   ]
  },
  {
   "cell_type": "code",
   "execution_count": null,
   "id": "277ebad8",
   "metadata": {},
   "outputs": [],
   "source": [
    "l_range = list(np.arange(0.1,10,0.1))\n",
    "parameters = {\n",
    "    'penalty' : ['l1','l2','elasticnet'], \n",
    "    'C'       : l_range,\n",
    "    'solver'  : ['newton-cg', 'lbfgs', 'liblinear'],\n",
    "}\n",
    "\n",
    "gs_lr = GridSearchCV(classifier,                    \n",
    "                   param_grid = parameters,   \n",
    "                   scoring='accuracy',\n",
    "                   cv = 10\n",
    "                   ) \n",
    "gs_lr.fit(x_train,y_train)"
   ]
  },
  {
   "cell_type": "code",
   "execution_count": null,
   "id": "2346d70c",
   "metadata": {},
   "outputs": [],
   "source": [
    "\n",
    "print(gs_lr.best_score_)"
   ]
  },
  {
   "cell_type": "code",
   "execution_count": null,
   "id": "4dee20a0",
   "metadata": {},
   "outputs": [],
   "source": [
    "print(\"Best parameters: \",gs_lr.best_params_)\n",
    "gs_predictions_LR = gs_lr.predict(x_test)\n",
    "print(\"Accuracy: \",accuracy_score(y_test,gs_predictions_LR))\n",
    "print(classification_report(y_test,gs_predictions_LR ))\n",
    "cm = confusion_matrix(y_test,gs_predictions_LR)\n",
    "fig, ax= plt.subplots(figsize=(3,3))\n",
    "sns.heatmap(cm, annot=True, fmt='g', ax=ax);  #annot=True to annotate cells, ftm='g' to disable scientific notation\n",
    "\n",
    "# labels, title and ticks\n",
    "ax.set_xlabel('Predicted labels');ax.set_ylabel('True labels'); \n",
    "ax.set_title('Confusion Matrix'); \n",
    "Specificity_lr = cm[0,0]/(cm[0,0]+cm[0,1])\n",
    "Sensitivity_lr = cm[1,1]/(cm[1,0]+cm[1,1])\n",
    "FPR_lr = 1-Specificity_lr\n",
    "print(\"Sensitivity: \",Sensitivity_lr)\n",
    "print(\"Specificity: \",Specificity_lr)"
   ]
  },
  {
   "cell_type": "markdown",
   "id": "d4f3e606",
   "metadata": {},
   "source": [
    "# RandomSearchCV"
   ]
  },
  {
   "cell_type": "code",
   "execution_count": null,
   "id": "72bdfadb",
   "metadata": {},
   "outputs": [],
   "source": [
    "parameters = {\n",
    "    'penalty' : ['l1','l2'], \n",
    "    'C'       : l_range,\n",
    "    'solver'  : ['newton-cg', 'lbfgs', 'liblinear'],\n",
    "}\n",
    "rs_lr= RandomizedSearchCV(classifier,                    \n",
    "                   parameters,   \n",
    "                   scoring='accuracy',        \n",
    "                   cv=10) \n",
    "rs_lr.fit(x_train,y_train)"
   ]
  },
  {
   "cell_type": "code",
   "execution_count": null,
   "id": "879fa24c",
   "metadata": {},
   "outputs": [],
   "source": [
    "print(rs_lr.best_params_)\n",
    "print(rs_lr.best_score_)\n",
    "rs_predictions_LR = rs_lr.predict(x_test)\n",
    "print(accuracy_score(y_test,rs_predictions_LR))\n",
    "print(classification_report(y_test,rs_predictions_LR ))"
   ]
  },
  {
   "cell_type": "markdown",
   "id": "39d0b9ac",
   "metadata": {},
   "source": [
    "# Decision Tree"
   ]
  },
  {
   "cell_type": "code",
   "execution_count": null,
   "id": "3ff9930d",
   "metadata": {},
   "outputs": [],
   "source": [
    "clf = DecisionTreeClassifier(random_state=4)\n",
    "\n",
    "# Train Decision Tree Classifer\n",
    "clf_DT = clf.fit(x_train,y_train)\n",
    "\n",
    "#Predict the response for test dataset\n",
    "y_pred_DT = clf_DT.predict(x_test)\n",
    "print(accuracy_score(y_test,y_pred_DT))\n",
    "print(classification_report(y_test, y_pred_DT))"
   ]
  },
  {
   "cell_type": "markdown",
   "id": "9136c23e",
   "metadata": {},
   "source": [
    "# GridSearchCV"
   ]
  },
  {
   "cell_type": "code",
   "execution_count": null,
   "id": "4dea3d6e",
   "metadata": {},
   "outputs": [],
   "source": [
    "params = { 'min_samples_split': [6,8,10,12,14],'criterion' : ['gini', 'entropy','log_loss'],'max_depth' : [4,6,8,10,11,12,13,None], 'max_features': ('sqrt','log2',None),'splitter': ['random','best']  }\n",
    "gs_DT = GridSearchCV(DecisionTreeClassifier(random_state=42), params, verbose=1)\n",
    "gs_DT.fit(x_train, y_train)"
   ]
  },
  {
   "cell_type": "code",
   "execution_count": null,
   "id": "989e9fd2",
   "metadata": {},
   "outputs": [],
   "source": [
    "print(\"Best parameters: \",gs_DT.best_params_)\n",
    "print(gs_DT.best_score_)\n",
    "gs_predictions_DT = gs_DT.predict(x_test)\n",
    "print(\"Accuracy: \",accuracy_score(y_test,gs_predictions_DT))\n",
    "print(classification_report(y_test,gs_predictions_DT ))\n",
    "cm = confusion_matrix(y_test,gs_predictions_DT)\n",
    "fig, ax= plt.subplots(figsize=(3,3))\n",
    "sns.heatmap(cm, annot=True, fmt='g', ax=ax);  #annot=True to annotate cells, ftm='g' to disable scientific notation\n",
    "\n",
    "# labels, title and ticks\n",
    "ax.set_xlabel('Predicted labels');ax.set_ylabel('True labels'); \n",
    "ax.set_title('Confusion Matrix'); \n",
    "Specificity_DT = cm[0,0]/(cm[0,0]+cm[0,1])\n",
    "Sensitivity_DT = cm[1,1]/(cm[1,0]+cm[1,1])\n",
    "FPR_DT = 1-Specificity_DT\n",
    "print(\"Sensitivity: \",Sensitivity_DT)\n",
    "print(\"Specificity: \",Specificity_DT)"
   ]
  },
  {
   "cell_type": "markdown",
   "id": "05791193",
   "metadata": {},
   "source": [
    "# RandomSearchCV"
   ]
  },
  {
   "cell_type": "code",
   "execution_count": null,
   "id": "3bfa980a",
   "metadata": {},
   "outputs": [],
   "source": [
    "params = {'max_leaf_nodes': list(range(2, 100)), 'min_samples_split': [2, 3, 4],'criterion' : ['gini', 'entropy'],'max_depth' : [2,4,8,16,32,64]  }\n",
    "random_search_cv = RandomizedSearchCV(DecisionTreeClassifier(random_state=42), params, verbose=1, cv=3)\n",
    "random_search_cv.fit(x_train, y_train)"
   ]
  },
  {
   "cell_type": "code",
   "execution_count": null,
   "id": "9787351f",
   "metadata": {},
   "outputs": [],
   "source": [
    "print(random_search_cv.best_params_)\n",
    "print(random_search_cv.best_score_)\n",
    "random_predictions_DT = random_search_cv.predict(x_test)\n",
    "print(accuracy_score(y_test,random_predictions_DT))\n",
    "print(classification_report(y_test,random_predictions_DT ))"
   ]
  },
  {
   "cell_type": "markdown",
   "id": "59fd8fd4",
   "metadata": {},
   "source": [
    "# NaiveBayes"
   ]
  },
  {
   "cell_type": "code",
   "execution_count": null,
   "id": "950319c1",
   "metadata": {},
   "outputs": [],
   "source": [
    "from sklearn.naive_bayes import GaussianNB\n",
    "classifier = GaussianNB()\n",
    "classifier.fit(x_train, y_train)\n",
    "y_pred_nb = classifier.predict(x_test)\n",
    " \n",
    "print(accuracy_score(y_test,y_pred_nb))\n",
    "print(classification_report(y_test, y_pred_nb))"
   ]
  },
  {
   "cell_type": "markdown",
   "id": "8665519b",
   "metadata": {},
   "source": [
    "# Grid Search CV"
   ]
  },
  {
   "cell_type": "code",
   "execution_count": null,
   "id": "c0700cc7",
   "metadata": {},
   "outputs": [],
   "source": [
    "from sklearn.model_selection import RepeatedStratifiedKFold\n",
    "\n",
    "cv_method = RepeatedStratifiedKFold(n_splits=5, \n",
    "                                    n_repeats=3, \n",
    "                                    random_state=999)\n",
    "params_NB = {'var_smoothing': np.logspace(0,-9, num=100)}\n",
    "gs_NB = GridSearchCV(GaussianNB(), \n",
    "                     param_grid=params_NB, \n",
    "                     cv=cv_method,\n",
    "                     verbose=1, \n",
    "                     scoring='accuracy')\n",
    "gs_NB.fit(x_train, y_train)\n",
    "print(\"Best parameters: \",gs_NB.best_params_)\n",
    "print(gs_NB.best_score_)\n",
    "gs_predictions_NB = gs_NB.predict(x_test)\n",
    "print(\"Accuracy: \",accuracy_score(y_test,gs_predictions_NB))\n",
    "print(classification_report(y_test,gs_predictions_NB ))\n",
    "cm = confusion_matrix(y_test,gs_predictions_NB)\n",
    "fig, ax= plt.subplots(figsize=(3,3))\n",
    "sns.heatmap(cm, annot=True, fmt='g', ax=ax);  #annot=True to annotate cells, ftm='g' to disable scientific notation\n",
    "\n",
    "# labels, title and ticks\n",
    "ax.set_xlabel('Predicted labels');ax.set_ylabel('True labels'); \n",
    "ax.set_title('Confusion Matrix'); \n",
    "Specificity_nb = cm[0,0]/(cm[0,0]+cm[0,1])\n",
    "Sensitivity_nb = cm[1,1]/(cm[1,0]+cm[1,1])\n",
    "FPR_nb = 1-Specificity_nb\n",
    "print(\"Sensitivity: \",Sensitivity_nb)\n",
    "print(\"Specificity: \",Specificity_nb)"
   ]
  },
  {
   "cell_type": "markdown",
   "id": "8ad3c2fc",
   "metadata": {},
   "source": [
    "# Random Search CV"
   ]
  },
  {
   "cell_type": "code",
   "execution_count": null,
   "id": "f35e519d",
   "metadata": {},
   "outputs": [],
   "source": [
    "from sklearn.model_selection import RepeatedStratifiedKFold\n",
    "\n",
    "cv_method = RepeatedStratifiedKFold(n_splits=5, \n",
    "                                    n_repeats=3, \n",
    "                                    random_state=999)\n",
    "params_NB = {'var_smoothing': np.logspace(0,-9, num=100)}\n",
    "rs_NB = RandomizedSearchCV(GaussianNB(), \n",
    "                     params_NB, \n",
    "                     cv=cv_method,\n",
    "                     verbose=1, \n",
    "                     scoring='accuracy')\n",
    "rs_NB.fit(x_train, y_train)\n",
    "print(rs_NB.best_params_)\n",
    "print(rs_NB.best_score_)\n",
    "rs_predictions_NB = rs_NB.predict(x_test)\n",
    "print(accuracy_score(y_test,rs_predictions_NB))\n",
    "print(classification_report(y_test,rs_predictions_NB ))"
   ]
  },
  {
   "cell_type": "markdown",
   "id": "89cf15df",
   "metadata": {},
   "source": [
    "# Adaboost"
   ]
  },
  {
   "cell_type": "code",
   "execution_count": null,
   "id": "993ad478",
   "metadata": {},
   "outputs": [],
   "source": [
    "from sklearn.ensemble import AdaBoostClassifier\n",
    "ABclassifier = AdaBoostClassifier(random_state=4)\n",
    "\n",
    "ABclassifier.fit(x_train, y_train)\n",
    "y_pred_AB = ABclassifier.predict(x_test)\n",
    "print(accuracy_score(y_test,y_pred_AB))\n",
    "print(classification_report(y_test, y_pred_AB))"
   ]
  },
  {
   "cell_type": "markdown",
   "id": "5f5c5b32",
   "metadata": {},
   "source": [
    "# GridSearchCV"
   ]
  },
  {
   "cell_type": "code",
   "execution_count": null,
   "id": "65d399b0",
   "metadata": {},
   "outputs": [],
   "source": [
    "from sklearn.model_selection import RepeatedStratifiedKFold\n",
    "model = AdaBoostClassifier(random_state=4)\n",
    "grid = dict()\n",
    "grid['n_estimators'] = [10, 50, 100, 150]\n",
    "grid['learning_rate'] = [0.001, 0.01, 0.1, 1.0]\n",
    "\n",
    "# define the evaluation procedure\n",
    "cv = RepeatedStratifiedKFold(n_splits=10, n_repeats=3, random_state=1)\n",
    "\n",
    "# define the grid search procedure\n",
    "grid_search = GridSearchCV(estimator=model, param_grid=grid, n_jobs=-1, cv=cv, scoring='accuracy')\n",
    "\n",
    "# execute the grid search\n",
    "grid_result = grid_search.fit(x_train,y_train)\n",
    "print(\"Best parameters: \",grid_result.best_params_)\n",
    "print(grid_result.best_score_)\n",
    "gs_predictions_ADA = grid_result.predict(x_test)\n",
    "print(\"Accuracy: \",accuracy_score(y_test,gs_predictions_ADA))\n",
    "print(classification_report(y_test,gs_predictions_ADA ))\n",
    "cm = confusion_matrix(y_test,gs_predictions_ADA)\n",
    "fig, ax= plt.subplots(figsize=(3,3))\n",
    "sns.heatmap(cm, annot=True, fmt='g', ax=ax);  #annot=True to annotate cells, ftm='g' to disable scientific notation\n",
    "\n",
    "# labels, title and ticks\n",
    "ax.set_xlabel('Predicted labels');ax.set_ylabel('True labels'); \n",
    "ax.set_title('Confusion Matrix'); \n",
    "Specificity_ada = cm[0,0]/(cm[0,0]+cm[0,1])\n",
    "Sensitivity_ada = cm[1,1]/(cm[1,0]+cm[1,1])\n",
    "FPR_ada = 1-Specificity_ada\n",
    "print(\"Sensitivity: \",Sensitivity_ada)\n",
    "print(\"Specificity: \",Specificity_ada)"
   ]
  },
  {
   "cell_type": "markdown",
   "id": "f000f7ba",
   "metadata": {},
   "source": [
    "# Random Search CV"
   ]
  },
  {
   "cell_type": "code",
   "execution_count": null,
   "id": "b963d465",
   "metadata": {},
   "outputs": [],
   "source": [
    "random_search = RandomizedSearchCV(AdaBoostClassifier(random_state=4), grid, n_jobs=-1, cv=cv)\n",
    "\n",
    "# execute the grid search\n",
    "random_result = random_search.fit(x_train,y_train)\n",
    "print(random_result.best_params_)\n",
    "print(random_result.best_score_)\n",
    "rs_predictions_ADA = random_result.predict(x_test)\n",
    "print(accuracy_score(y_test,rs_predictions_ADA))\n",
    "print(classification_report(y_test,rs_predictions_ADA ))\n"
   ]
  },
  {
   "cell_type": "markdown",
   "id": "9f9a6399",
   "metadata": {},
   "source": [
    "# XG BOOST"
   ]
  },
  {
   "cell_type": "code",
   "execution_count": null,
   "id": "f206228f",
   "metadata": {},
   "outputs": [],
   "source": [
    "conda install -c conda-forge xgboost"
   ]
  },
  {
   "cell_type": "code",
   "execution_count": null,
   "id": "fb2882c3",
   "metadata": {},
   "outputs": [],
   "source": [
    "import xgboost as xgb"
   ]
  },
  {
   "cell_type": "code",
   "execution_count": null,
   "id": "1b1fa482",
   "metadata": {},
   "outputs": [],
   "source": [
    "list2=['sex', 'cp', 'fbs', 'restecg', 'exang', 'slope', 'ca', 'thal']\n",
    "x_train[list2] = x_train[list2].astype(float)\n",
    "x_test[list2] = x_test[list2].astype(float)"
   ]
  },
  {
   "cell_type": "code",
   "execution_count": null,
   "id": "e38efbb0",
   "metadata": {},
   "outputs": [],
   "source": [
    "my_model = xgb.XGBClassifier()\n",
    "my_model.fit(x_train, y_train)\n",
    " \n",
    "# Predicting the Test set results\n",
    "y_pred_XGB = my_model.predict(x_test)\n",
    "\n",
    "print(accuracy_score(y_test,y_pred_XGB))\n",
    "print(classification_report(y_test, y_pred_XGB))"
   ]
  },
  {
   "cell_type": "markdown",
   "id": "32188ccd",
   "metadata": {},
   "source": [
    "# GridSearchCV"
   ]
  },
  {
   "cell_type": "code",
   "execution_count": null,
   "id": "4950e099",
   "metadata": {},
   "outputs": [],
   "source": [
    "estimator = xgb.XGBClassifier(\n",
    "    objective= 'binary:logistic',\n",
    "    nthread=4,\n",
    "    seed=42\n",
    ")\n",
    "parameters = {\n",
    "    'max_depth': range (2, 10, 1),\n",
    "    'n_estimators': range(60, 220, 40),\n",
    "    'learning_rate': np.arange(0,1,0.1)\n",
    "}\n",
    "grid_search_XGB = GridSearchCV(\n",
    "    estimator=estimator,\n",
    "    param_grid=parameters,\n",
    "    n_jobs = 10,\n",
    "   \n",
    "    verbose=True\n",
    ")\n",
    "grid_result = grid_search_XGB.fit(x_train,y_train)\n",
    "print(\"Best parameters: \",grid_result.best_params_)\n",
    "print(grid_result.best_score_)\n",
    "gs_predictions_XGB = grid_result.predict(x_test)\n",
    "print(\"Accuracy: \",accuracy_score(y_test,gs_predictions_XGB))\n",
    "print(classification_report(y_test,gs_predictions_XGB ))\n",
    "cm = confusion_matrix(y_test,gs_predictions_XGB)\n",
    "fig, ax= plt.subplots(figsize=(3,3))\n",
    "sns.heatmap(cm, annot=True, fmt='g', ax=ax);  #annot=True to annotate cells, ftm='g' to disable scientific notation\n",
    "\n",
    "# labels, title and ticks\n",
    "ax.set_xlabel('Predicted labels');ax.set_ylabel('True labels'); \n",
    "ax.set_title('Confusion Matrix'); \n",
    "Specificity_xgb = cm[0,0]/(cm[0,0]+cm[0,1])\n",
    "Sensitivity_xgb = cm[1,1]/(cm[1,0]+cm[1,1])\n",
    "FPR_xgb = 1-Specificity_xgb\n",
    "print(\"Sensitivity: \",Sensitivity_xgb)\n",
    "print(\"Specificity: \",Specificity_xgb)"
   ]
  },
  {
   "cell_type": "markdown",
   "id": "770f29af",
   "metadata": {},
   "source": [
    "# RandomSearchCV"
   ]
  },
  {
   "cell_type": "code",
   "execution_count": null,
   "id": "08592cf9",
   "metadata": {},
   "outputs": [],
   "source": [
    "random_search_XGB = RandomizedSearchCV(\n",
    "    xgb.XGBClassifier(\n",
    "    objective= 'binary:logistic',\n",
    "    nthread=4,\n",
    "    seed=42\n",
    "),\n",
    "    parameters,\n",
    "    n_jobs = 10,\n",
    "    cv = 10,\n",
    "    verbose=True\n",
    ")\n",
    "random_result = random_search_XGB.fit(x_train,y_train)\n",
    "print(random_result.best_params_)\n",
    "print(random_result.best_score_)\n",
    "rs_predictions_XGB = random_result.predict(x_test)\n",
    "print(accuracy_score(y_test,rs_predictions_XGB))\n",
    "print(classification_report(y_test,rs_predictions_XGB ))"
   ]
  },
  {
   "cell_type": "markdown",
   "id": "c240f647",
   "metadata": {},
   "source": [
    "# SGD"
   ]
  },
  {
   "cell_type": "code",
   "execution_count": null,
   "id": "abf37e4b",
   "metadata": {},
   "outputs": [],
   "source": [
    "from sklearn.linear_model import SGDClassifier\n",
    "sgd = SGDClassifier(random_state=4)\n",
    "sgd.fit(x_train,y_train)\n",
    "y_pred_sgd = sgd.predict(x_test)\n",
    "print(accuracy_score(y_test,y_pred_sgd))\n",
    "print(classification_report(y_test, y_pred_sgd))"
   ]
  },
  {
   "cell_type": "markdown",
   "id": "828926df",
   "metadata": {},
   "source": [
    "# GridSearchCV"
   ]
  },
  {
   "cell_type": "code",
   "execution_count": null,
   "id": "92d10fc0",
   "metadata": {},
   "outputs": [],
   "source": [
    "loss = ['hinge', 'log_loss', 'modified_huber', 'squared_hinge',  \n",
    "'perceptron']\n",
    "penalty = ['l1', 'l2', 'elasticnet'] \n",
    "alpha = [0.0001, 0.001, 0.01, 0.1, 1, 10, 100, 1000] \n",
    "learning_rate = ['constant', 'optimal', 'invscaling', 'adaptive'] \n",
    "class_weight = [{1:0.5, 0:0.5}, {1:0.4, 0:0.6}, {1:0.6, 0:0.4}, {1:0.7, 0:0.3}] \n",
    "eta0 = [1, 10, 100] \n",
    "param_distributions = dict(loss=loss, \n",
    "penalty=penalty, \n",
    "alpha=alpha, \n",
    "learning_rate=learning_rate, \n",
    "class_weight=class_weight, \n",
    "eta0=eta0)\n",
    "gs_SGD = GridSearchCV(SGDClassifier(loss=\"hinge\", penalty=\"l2\", max_iter=50,random_state=4), \n",
    "param_distributions,\n",
    "verbose=1, n_jobs=-1) \n",
    "gs_result_SGD = gs_SGD.fit(x_train, y_train) \n",
    "print(\"Best parameters: \",gs_result_SGD.best_params_)\n",
    "print(gs_result_SGD.best_score_)\n",
    "gs_predictions_SGD = gs_result_SGD.predict(x_test)\n",
    "print(\"Accuracy: \",accuracy_score(y_test,gs_predictions_SGD))\n",
    "print(classification_report(y_test,gs_predictions_SGD ))\n",
    "cm = confusion_matrix(y_test,gs_predictions_SGD)\n",
    "fig, ax= plt.subplots(figsize=(3,3))\n",
    "sns.heatmap(cm, annot=True, fmt='g', ax=ax);  #annot=True to annotate cells, ftm='g' to disable scientific notation\n",
    "\n",
    "# labels, title and ticks\n",
    "ax.set_xlabel('Predicted labels');ax.set_ylabel('True labels'); \n",
    "ax.set_title('Confusion Matrix'); \n",
    "Specificity_sgd = cm[0,0]/(cm[0,0]+cm[0,1])\n",
    "Sensitivity_sgd = cm[1,1]/(cm[1,0]+cm[1,1])\n",
    "FPR_sgd = 1-Specificity_sgd\n",
    "print(\"Sensitivity: \",Sensitivity_sgd)\n",
    "print(\"Specificity: \",Specificity_sgd)"
   ]
  },
  {
   "cell_type": "markdown",
   "id": "479c48da",
   "metadata": {},
   "source": [
    "# RandomSearchedCV"
   ]
  },
  {
   "cell_type": "code",
   "execution_count": null,
   "id": "67360d98",
   "metadata": {},
   "outputs": [],
   "source": [
    "rs_SGD = RandomizedSearchCV(SGDClassifier(loss=\"hinge\", penalty=\"l2\", max_iter=50,random_state=4), \n",
    "param_distributions,\n",
    "verbose=1, n_jobs=-1) \n",
    "rs_result_SGD = rs_SGD.fit(x_train, y_train) \n",
    "print(rs_result_SGD.best_params_)\n",
    "print(rs_result_SGD.best_score_)\n",
    "rs_predictions_SGD = rs_result_SGD.predict(x_test)\n",
    "print(accuracy_score(y_test,rs_predictions_SGD))\n",
    "print(classification_report(y_test,rs_predictions_SGD ))"
   ]
  },
  {
   "cell_type": "markdown",
   "id": "9f4fe715",
   "metadata": {},
   "source": [
    "# QDA"
   ]
  },
  {
   "cell_type": "code",
   "execution_count": null,
   "id": "be371d20",
   "metadata": {},
   "outputs": [],
   "source": [
    "from sklearn.discriminant_analysis import QuadraticDiscriminantAnalysis\n",
    "qda = QuadraticDiscriminantAnalysis()\n",
    "\n",
    "# fit the model with data\n",
    "qda.fit(x_train,y_train)\n",
    "y_pred_qda = qda.predict(x_test)\n",
    "print(accuracy_score(y_test,y_pred_qda))\n",
    "print(classification_report(y_test, y_pred_qda))\n"
   ]
  },
  {
   "cell_type": "markdown",
   "id": "53b40aeb",
   "metadata": {},
   "source": [
    "# GridSearchCV"
   ]
  },
  {
   "cell_type": "code",
   "execution_count": null,
   "id": "b203896b",
   "metadata": {},
   "outputs": [],
   "source": [
    "params = [{'reg_param': np.arange(-1,1,0.1)}]\n",
    "gs_qda = GridSearchCV(qda, params)\n",
    "gs_result_qda = gs_qda.fit(x_train, y_train) \n",
    "print(\"Best parameters: \",gs_result_qda.best_params_)\n",
    "print(gs_result_qda.best_score_)\n",
    "gs_predictions_qda = gs_result_qda.predict(x_test)\n",
    "print(\"Accuracy: \",accuracy_score(y_test,gs_predictions_qda))\n",
    "print(classification_report(y_test,gs_predictions_qda ))\n",
    "cm = confusion_matrix(y_test,gs_predictions_qda)\n",
    "fig, ax= plt.subplots(figsize=(3,3))\n",
    "sns.heatmap(cm, annot=True, fmt='g', ax=ax);  #annot=True to annotate cells, ftm='g' to disable scientific notation\n",
    "\n",
    "# labels, title and ticks\n",
    "ax.set_xlabel('Predicted labels');ax.set_ylabel('True labels'); \n",
    "ax.set_title('Confusion Matrix'); \n",
    "Specificity_qda = cm[0,0]/(cm[0,0]+cm[0,1])\n",
    "Sensitivity_qda = cm[1,1]/(cm[1,0]+cm[1,1])\n",
    "FPR_qda = 1-Specificity_qda\n",
    "print(\"Sensitivity: \",Sensitivity_qda)\n",
    "print(\"Specificity: \",Specificity_qda)"
   ]
  },
  {
   "cell_type": "markdown",
   "id": "c66ce8c0",
   "metadata": {},
   "source": [
    "# RandomSearchCV"
   ]
  },
  {
   "cell_type": "code",
   "execution_count": null,
   "id": "74aff80a",
   "metadata": {},
   "outputs": [],
   "source": [
    "rs_qda = RandomizedSearchCV(qda, params)\n",
    "rs_result_qda = rs_qda.fit(x_train, y_train) \n",
    "print(rs_result_qda.best_params_)\n",
    "print(rs_result_qda.best_score_)\n",
    "rs_predictions_qda = rs_result_qda.predict(x_test)\n",
    "print(accuracy_score(y_test,rs_predictions_qda))\n",
    "print(classification_report(y_test,rs_predictions_qda ))"
   ]
  },
  {
   "cell_type": "markdown",
   "id": "3eb3f912",
   "metadata": {},
   "source": [
    "# EVCS"
   ]
  },
  {
   "cell_type": "code",
   "execution_count": null,
   "id": "8c950389",
   "metadata": {},
   "outputs": [],
   "source": [
    "from sklearn.ensemble import VotingClassifier\n",
    "estimator = []\n",
    "estimator.append(('LR', LogisticRegression(C= 0.30000000000000004, penalty= 'l2', solver= 'liblinear')))\n",
    "estimator.append(('SVC', SVC(C= 100, gamma= 0.0001, kernel= 'rbf',probability = True)))\n",
    "estimator.append(('RFC',RandomForestClassifier(max_depth= 8, max_features= 0.2, max_samples= 0.5, n_estimators= 80) ))\n",
    "vot_hard = VotingClassifier(estimators = estimator, voting ='hard')\n",
    "vot_hard.fit(x_train, y_train)\n",
    "y_pred_evch = vot_hard.predict(x_test)\n",
    "print(\"Accuracy: \",accuracy_score(y_test,y_pred_evch))\n",
    "print(classification_report(y_test, y_pred_evch))\n",
    "cm = confusion_matrix(y_test,y_pred_evch)\n",
    "fig, ax= plt.subplots(figsize=(3,3))\n",
    "sns.heatmap(cm, annot=True, fmt='g', ax=ax);  #annot=True to annotate cells, ftm='g' to disable scientific notation\n",
    "\n",
    "# labels, title and ticks\n",
    "ax.set_xlabel('Predicted labels');ax.set_ylabel('True labels'); \n",
    "ax.set_title('Confusion Matrix'); \n",
    "Specificity_evch = cm[0,0]/(cm[0,0]+cm[0,1])\n",
    "Sensitivity_evch = cm[1,1]/(cm[1,0]+cm[1,1])\n",
    "FPR_evch = 1-Specificity_evch\n",
    "print(\"Sensitivity: \",Sensitivity_evch)\n",
    "print(\"Specificity: \",Specificity_evch)"
   ]
  },
  {
   "cell_type": "code",
   "execution_count": null,
   "id": "a25bd624",
   "metadata": {},
   "outputs": [],
   "source": [
    "vot_soft = VotingClassifier(estimators = estimator, voting ='soft')\n",
    "vot_soft.fit(x_train, y_train)\n",
    "y_pred_evcs = vot_soft.predict(x_test)\n",
    "print(\"Accuracy: \",accuracy_score(y_test,y_pred_evcs))\n",
    "print(classification_report(y_test, y_pred_evcs))\n",
    "cm = confusion_matrix(y_test,y_pred_evcs)\n",
    "fig, ax= plt.subplots(figsize=(3,3))\n",
    "sns.heatmap(cm, annot=True, fmt='g', ax=ax);  #annot=True to annotate cells, ftm='g' to disable scientific notation\n",
    "\n",
    "# labels, title and ticks\n",
    "ax.set_xlabel('Predicted labels');ax.set_ylabel('True labels'); \n",
    "ax.set_title('Confusion Matrix'); \n",
    "Specificity_evcs = cm[0,0]/(cm[0,0]+cm[0,1])\n",
    "Sensitivity_evcs = cm[1,1]/(cm[1,0]+cm[1,1])\n",
    "FPR_evcs = 1-Specificity_evcs\n",
    "print(\"Sensitivity: \",Sensitivity_evcs)\n",
    "print(\"Specificity: \",Specificity_evcs)"
   ]
  },
  {
   "cell_type": "code",
   "execution_count": null,
   "id": "0719e74d",
   "metadata": {},
   "outputs": [],
   "source": [
    "X = [FPR_evcs,FPR_evch,FPR_qda,FPR_sgd,FPR_xgb,FPR_ada,FPR_nb,FPR_lr,FPR_knn,FPR_svm,FPR_rf]\n",
    "Y = [Sensitivity_evcs,Sensitivity_evch,Sensitivity_qda,Sensitivity_sgd,Sensitivity_xgb,Sensitivity_ada,Sensitivity_nb,Sensitivity_lr,Sensitivity_knn,Sensitivity_svm,Sensitivity_rf]\n",
    "Z = ['EVCS','EVCH','QDA','SGD','XGB','ADA','NB','LR','KNN','SVM','RF']\n",
    "# Plotting point using sactter method\n",
    "#fig, ax = plt.subplots()\n",
    "#ax.scatter(X, Y)\n",
    "\n",
    "\n",
    "plt.scatter(X,Y)\n",
    "for i, txt in enumerate(Z):\n",
    "    plt.annotate(txt, (X[i], Y[i]))\n",
    "# naming the x axis\n",
    "plt.xlabel('False Positive Rate')\n",
    "#naming the y axis\n",
    "plt.ylabel('True Positive Rate')\n",
    "plt.show()"
   ]
  },
  {
   "cell_type": "code",
   "execution_count": null,
   "id": "f7e15df7",
   "metadata": {},
   "outputs": [],
   "source": []
  },
  {
   "cell_type": "code",
   "execution_count": null,
   "id": "adbec057",
   "metadata": {},
   "outputs": [],
   "source": []
  },
  {
   "cell_type": "code",
   "execution_count": null,
   "id": "f35dc524",
   "metadata": {},
   "outputs": [],
   "source": []
  },
  {
   "cell_type": "code",
   "execution_count": null,
   "id": "facc21ee",
   "metadata": {},
   "outputs": [],
   "source": []
  },
  {
   "cell_type": "code",
   "execution_count": null,
   "id": "45e23c92",
   "metadata": {},
   "outputs": [],
   "source": []
  },
  {
   "cell_type": "code",
   "execution_count": null,
   "id": "4cdddbe0",
   "metadata": {},
   "outputs": [],
   "source": []
  }
 ],
 "metadata": {
  "kernelspec": {
   "display_name": "Python 3 (ipykernel)",
   "language": "python",
   "name": "python3"
  },
  "language_info": {
   "codemirror_mode": {
    "name": "ipython",
    "version": 3
   },
   "file_extension": ".py",
   "mimetype": "text/x-python",
   "name": "python",
   "nbconvert_exporter": "python",
   "pygments_lexer": "ipython3",
   "version": "3.10.9"
  }
 },
 "nbformat": 4,
 "nbformat_minor": 5
}
